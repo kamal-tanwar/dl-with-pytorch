{
 "cells": [
  {
   "cell_type": "code",
   "execution_count": 2,
   "metadata": {},
   "outputs": [],
   "source": [
    "import torch\n",
    "import torch.optim as optim"
   ]
  },
  {
   "cell_type": "markdown",
   "metadata": {},
   "source": [
    "1. Redefine the model to be `w2 * t_u ** 2 + w1 * t_u + b`.\n",
    "\n",
    "    1. What parts of the training loop, and so on, need to change to accommodate this redefinition? <br>\n",
    "        Only need to change model function. Rest all works.\n",
    "\n",
    "    2. What parts are agnostic to swapping out the model? <br>\n",
    "        Everything! We now have three params but rest is all the same\n",
    "\n",
    "    3. Is the resulting loss higher or lower after training? <br>\n",
    "        In my case, it's a bit higher for both train and val\n",
    "\n",
    "    4. Is the actual result better or worse? <br>\n",
    "        Not sure we never checked that even in the chapter. \n",
    "        But I'm assuming since the loss is higer so the actual result is higher too\n",
    "        "
   ]
  },
  {
   "cell_type": "code",
   "execution_count": 5,
   "metadata": {},
   "outputs": [],
   "source": [
    "t_c = [0.5,  14.0, 15.0, 28.0, 11.0,  8.0,  3.0, -4.0,  6.0, 13.0, 21.0]\n",
    "t_u = [35.7, 55.9, 58.2, 81.9, 56.3, 48.9, 33.9, 21.8, 48.4, 60.4, 68.4]\n",
    "t_c = torch.tensor(t_c)\n",
    "t_u = torch.tensor(t_u)"
   ]
  },
  {
   "cell_type": "code",
   "execution_count": 3,
   "metadata": {},
   "outputs": [],
   "source": [
    "def model(t_u, w1, w2, b):\n",
    "    return w2 * t_u ** 2 + w1 * t_u + b\n",
    "    "
   ]
  },
  {
   "cell_type": "code",
   "execution_count": 4,
   "metadata": {},
   "outputs": [],
   "source": [
    "def loss_fn(t_p, t_c):\n",
    "    return ((t_p - t_c)**2).mean()"
   ]
  },
  {
   "cell_type": "code",
   "execution_count": 18,
   "metadata": {},
   "outputs": [],
   "source": [
    "def training_loop(n_epochs, optimizer, params, train_tu, val_tu, train_tc, val_tc):\n",
    "    for epoch in range(1, n_epochs):\n",
    "        train_tp = model(train_tu, *params)\n",
    "        train_loss = loss_fn(train_tp, train_tc)\n",
    "\n",
    "        val_tp = model(val_tu, *params)\n",
    "        val_loss = loss_fn(val_tp, val_tc)\n",
    "\n",
    "        optimizer.zero_grad()\n",
    "        train_loss.backward()\n",
    "        optimizer.step()\n",
    "\n",
    "        if epoch <= 5 or epoch % 500 == 0:\n",
    "            print(f'Epoch: {epoch} \\t Train: {train_loss} \\t Val: {val_loss}')\n",
    "\n",
    "    return params"
   ]
  },
  {
   "cell_type": "code",
   "execution_count": 19,
   "metadata": {},
   "outputs": [
    {
     "data": {
      "text/plain": [
       "(tensor([ 1,  0,  8,  4,  6,  3,  2,  9, 10]), tensor([5, 7]))"
      ]
     },
     "execution_count": 19,
     "metadata": {},
     "output_type": "execute_result"
    }
   ],
   "source": [
    "n_val = int(0.2 * t_u.size(0))\n",
    "\n",
    "shuffle_idx = torch.randperm(t_u.size(0))\n",
    "\n",
    "train_idx = shuffle_idx[:-n_val]\n",
    "val_idx = shuffle_idx[-n_val:]\n",
    "\n",
    "train_idx, val_idx"
   ]
  },
  {
   "cell_type": "code",
   "execution_count": 20,
   "metadata": {},
   "outputs": [
    {
     "data": {
      "text/plain": [
       "(torch.Size([9]), torch.Size([9]), torch.Size([2]), torch.Size([2]))"
      ]
     },
     "execution_count": 20,
     "metadata": {},
     "output_type": "execute_result"
    }
   ],
   "source": [
    "train_tu = t_u[train_idx]\n",
    "train_tc = t_c[train_idx]\n",
    "\n",
    "val_tu = t_u[val_idx]\n",
    "val_tc = t_c[val_idx]\n",
    "\n",
    "train_tu.shape, train_tc.shape, val_tu.shape, val_tc.shape"
   ]
  },
  {
   "cell_type": "code",
   "execution_count": 21,
   "metadata": {},
   "outputs": [
    {
     "name": "stdout",
     "output_type": "stream",
     "text": [
      "Epoch: 1 \t Train: 13626444.0 \t Val: 3083100.25\n",
      "Epoch: 2 \t Train: 13354143.0 \t Val: 3021544.75\n",
      "Epoch: 3 \t Train: 13084663.0 \t Val: 2960626.75\n",
      "Epoch: 4 \t Train: 12818054.0 \t Val: 2900357.5\n",
      "Epoch: 5 \t Train: 12554358.0 \t Val: 2840745.25\n",
      "Epoch: 500 \t Train: 4.491250991821289 \t Val: 13.617194175720215\n",
      "Epoch: 1000 \t Train: 4.433690547943115 \t Val: 13.434093475341797\n",
      "Epoch: 1500 \t Train: 4.351741313934326 \t Val: 13.169559478759766\n",
      "Epoch: 2000 \t Train: 4.2462053298950195 \t Val: 12.821548461914062\n",
      "Epoch: 2500 \t Train: 4.118086814880371 \t Val: 12.386462211608887\n",
      "Epoch: 3000 \t Train: 3.969865083694458 \t Val: 11.862714767456055\n",
      "Epoch: 3500 \t Train: 3.8064775466918945 \t Val: 11.253778457641602\n",
      "Epoch: 4000 \t Train: 3.635936737060547 \t Val: 10.571142196655273\n",
      "Epoch: 4500 \t Train: 3.4692487716674805 \t Val: 9.836786270141602\n"
     ]
    },
    {
     "data": {
      "text/plain": [
       "tensor([-0.0470,  0.0050, -1.1289], requires_grad=True)"
      ]
     },
     "execution_count": 21,
     "metadata": {},
     "output_type": "execute_result"
    }
   ],
   "source": [
    "params = torch.tensor([1., 1., 0.,], requires_grad=True)\n",
    "lr=1e-2\n",
    "optimizer = optim.Adam([params], lr)\n",
    "\n",
    "training_loop(5000, optimizer, params, train_tu, val_tu, train_tc, val_tc)"
   ]
  },
  {
   "cell_type": "code",
   "execution_count": 23,
   "metadata": {},
   "outputs": [],
   "source": [
    "with torch.no_grad():\n",
    "    tp = model(t_u, *params)"
   ]
  },
  {
   "cell_type": "code",
   "execution_count": 24,
   "metadata": {},
   "outputs": [
    {
     "data": {
      "text/plain": [
       "tensor([ 3.5770, 11.8967, 13.1032, 28.6229, 12.1027,  8.5507,  3.0340,  0.2267,\n",
       "         8.3305, 14.3069, 19.0927])"
      ]
     },
     "execution_count": 24,
     "metadata": {},
     "output_type": "execute_result"
    }
   ],
   "source": [
    "tp"
   ]
  },
  {
   "cell_type": "code",
   "execution_count": 25,
   "metadata": {},
   "outputs": [],
   "source": [
    " # previous linear model result\n",
    " tp_lm = torch.tensor([ 1.4110, 12.4039, 13.6556, 26.5532, 12.6216,  8.5945,  0.4315, -6.1534, 8.3224, 14.8529, 19.2065])"
   ]
  },
  {
   "cell_type": "code",
   "execution_count": 28,
   "metadata": {},
   "outputs": [
    {
     "data": {
      "text/plain": [
       "(tensor(4.3672), tensor(3.0490))"
      ]
     },
     "execution_count": 28,
     "metadata": {},
     "output_type": "execute_result"
    }
   ],
   "source": [
    "((tp - t_c)**2).mean(), ((tp_lm-t_c)**2).mean()"
   ]
  },
  {
   "cell_type": "code",
   "execution_count": null,
   "metadata": {},
   "outputs": [],
   "source": []
  }
 ],
 "metadata": {
  "kernelspec": {
   "display_name": "dlpytorch",
   "language": "python",
   "name": "python3"
  },
  "language_info": {
   "codemirror_mode": {
    "name": "ipython",
    "version": 3
   },
   "file_extension": ".py",
   "mimetype": "text/x-python",
   "name": "python",
   "nbconvert_exporter": "python",
   "pygments_lexer": "ipython3",
   "version": "3.11.2"
  }
 },
 "nbformat": 4,
 "nbformat_minor": 2
}
