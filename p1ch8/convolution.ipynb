{
 "cells": [
  {
   "cell_type": "code",
   "execution_count": 112,
   "metadata": {},
   "outputs": [],
   "source": [
    "import collections\n",
    "\n",
    "import torch\n",
    "import torch.nn as nn\n",
    "from torch import optim\n",
    "from torchvision import datasets, transforms\n",
    "\n",
    "import matplotlib.pyplot as plt"
   ]
  },
  {
   "cell_type": "code",
   "execution_count": 113,
   "metadata": {},
   "outputs": [],
   "source": [
    "class_names = ['airplane','automobile','bird','cat','deer',\n",
    "               'dog','frog','horse','ship','truck']"
   ]
  },
  {
   "cell_type": "code",
   "execution_count": 114,
   "metadata": {},
   "outputs": [],
   "source": [
    "data_path = '../data/p1ch7/'\n",
    "\n",
    "cifar10 = datasets.CIFAR10(\n",
    "    data_path, train=True, download=False,\n",
    "    transform = transforms.Compose([\n",
    "        transforms.ToTensor(),\n",
    "        transforms.Normalize((0.4915, 0.4823, 0.4468),\n",
    "                             (0.2470, 0.2435, 0.2616))\n",
    "    ])\n",
    "    )\n",
    "cifar10_val = datasets.CIFAR10(\n",
    "    data_path, train=False, download=False,\n",
    "    transform = transforms.Compose([\n",
    "        transforms.ToTensor(),\n",
    "        transforms.Normalize((0.4915, 0.4823, 0.4468),\n",
    "                             (0.2470, 0.2435, 0.2616))\n",
    "    ])\n",
    "    )"
   ]
  },
  {
   "cell_type": "code",
   "execution_count": 115,
   "metadata": {},
   "outputs": [],
   "source": [
    "label_map = {0: 0, 2: 1}\n",
    "class_names = ['airplane', 'bird']\n",
    "\n",
    "cifar2 = [(img, label_map[label]) for img, label in cifar10 if label in [0, 2]]\n",
    "cifar2_val = [(img, label_map[label]) for img, label in cifar10_val if label in [0, 2]]"
   ]
  },
  {
   "cell_type": "code",
   "execution_count": 116,
   "metadata": {},
   "outputs": [
    {
     "data": {
      "text/plain": [
       "Conv2d(3, 16, kernel_size=(3, 3), stride=(1, 1))"
      ]
     },
     "execution_count": 116,
     "metadata": {},
     "output_type": "execute_result"
    }
   ],
   "source": [
    "conv = nn.Conv2d(3, 16, 3)\n",
    "conv"
   ]
  },
  {
   "cell_type": "code",
   "execution_count": 117,
   "metadata": {},
   "outputs": [
    {
     "data": {
      "text/plain": [
       "(torch.Size([16, 3, 3, 3]), torch.Size([16]))"
      ]
     },
     "execution_count": 117,
     "metadata": {},
     "output_type": "execute_result"
    }
   ],
   "source": [
    "conv.weight.shape, conv.bias.shape"
   ]
  },
  {
   "cell_type": "code",
   "execution_count": 118,
   "metadata": {},
   "outputs": [
    {
     "data": {
      "text/plain": [
       "(torch.Size([1, 3, 32, 32]), torch.Size([1, 16, 30, 30]))"
      ]
     },
     "execution_count": 118,
     "metadata": {},
     "output_type": "execute_result"
    }
   ],
   "source": [
    "img, _ = cifar2[0]\n",
    "output = conv(img.unsqueeze(0))\n",
    "\n",
    "img.unsqueeze(0).shape, output.shape"
   ]
  },
  {
   "cell_type": "code",
   "execution_count": 119,
   "metadata": {},
   "outputs": [
    {
     "name": "stderr",
     "output_type": "stream",
     "text": [
      "Clipping input data to the valid range for imshow with RGB data ([0..1] for floats or [0..255] for integers).\n"
     ]
    },
    {
     "data": {
      "image/png": "[encoded data removed]",
      "text/plain": [
       "<Figure size 200x400 with 2 Axes>"
      ]
     },
     "metadata": {},
     "output_type": "display_data"
    }
   ],
   "source": [
    "fig, axs = plt.subplots(1, 2, figsize=(2, 4))\n",
    "\n",
    "axs[0].imshow(img.permute(1, 2, 0)) # out image is darker because of normalization\n",
    "axs[0].axis('off')\n",
    "\n",
    "axs[1].imshow(output[0, 0].detach(), cmap='gray')\n",
    "axs[1].axis('off');"
   ]
  },
  {
   "cell_type": "code",
   "execution_count": 37,
   "metadata": {},
   "outputs": [
    {
     "data": {
      "text/plain": [
       "(torch.Size([1, 3, 32, 32]), torch.Size([1, 1, 32, 32]))"
      ]
     },
     "execution_count": 37,
     "metadata": {},
     "output_type": "execute_result"
    }
   ],
   "source": [
    "conv = nn.Conv2d(3, 1, kernel_size=3, padding=1)\n",
    "output = conv(img.unsqueeze(0))\n",
    "\n",
    "img.unsqueeze(0).shape, output.shape"
   ]
  },
  {
   "cell_type": "code",
   "execution_count": 38,
   "metadata": {},
   "outputs": [],
   "source": [
    "with torch.no_grad():\n",
    "    conv.bias.zero_()\n",
    "\n",
    "with torch.no_grad():\n",
    "    conv.weight.fill_(1./9.)"
   ]
  },
  {
   "cell_type": "code",
   "execution_count": 39,
   "metadata": {},
   "outputs": [
    {
     "data": {
      "image/png": "[encoded data removed]",
      "text/plain": [
       "<Figure size 300x300 with 1 Axes>"
      ]
     },
     "metadata": {},
     "output_type": "display_data"
    }
   ],
   "source": [
    "output = conv(img.unsqueeze(0))\n",
    "\n",
    "plt.figure(figsize=(3, 3))\n",
    "plt.imshow(output[0, 0].detach(), cmap='gray')\n",
    "plt.axis('off');"
   ]
  },
  {
   "cell_type": "code",
   "execution_count": 40,
   "metadata": {},
   "outputs": [],
   "source": [
    "with torch.no_grad():\n",
    "    conv.weight[:] = torch.tensor([[-1., 0., 1.],\n",
    "                                   [-1., 0., 1.],\n",
    "                                   [-1., 0., 1.]])\n",
    "    \n",
    "    conv.bias.zero_()"
   ]
  },
  {
   "cell_type": "code",
   "execution_count": 41,
   "metadata": {},
   "outputs": [
    {
     "data": {
      "image/png": "[encoded data removed]",
      "text/plain": [
       "<Figure size 300x300 with 1 Axes>"
      ]
     },
     "metadata": {},
     "output_type": "display_data"
    }
   ],
   "source": [
    "output = conv(img.unsqueeze(0))\n",
    "\n",
    "plt.figure(figsize=(3, 3))\n",
    "plt.imshow(output[0, 0].detach(), cmap='gray')\n",
    "plt.axis('off');"
   ]
  },
  {
   "cell_type": "code",
   "execution_count": 42,
   "metadata": {},
   "outputs": [
    {
     "data": {
      "text/plain": [
       "(torch.Size([1, 3, 32, 32]), torch.Size([1, 3, 16, 16]))"
      ]
     },
     "execution_count": 42,
     "metadata": {},
     "output_type": "execute_result"
    }
   ],
   "source": [
    "pool = nn.MaxPool2d(2)\n",
    "output = pool(img.unsqueeze(0))\n",
    "\n",
    "img.unsqueeze(0).shape, output.shape"
   ]
  },
  {
   "cell_type": "code",
   "execution_count": 43,
   "metadata": {},
   "outputs": [],
   "source": [
    "model = nn.Sequential(\n",
    "    nn.Conv2d(3, 16, kernel_size=3, padding=1),\n",
    "    nn.Tanh(),\n",
    "    nn.MaxPool2d(2),\n",
    "    nn.Conv2d(16, 8, kernel_size=3, padding=1),\n",
    "    nn.Tanh(),\n",
    "    nn.MaxPool2d(2),\n",
    "    nn.Flatten(), \n",
    "    nn.Linear(512, 32),\n",
    "    nn.Tanh(),\n",
    "    nn.Linear(32, 2)\n",
    ")"
   ]
  },
  {
   "cell_type": "code",
   "execution_count": 44,
   "metadata": {},
   "outputs": [
    {
     "data": {
      "text/plain": [
       "(18090, [432, 16, 1152, 8, 16384, 32, 64, 2])"
      ]
     },
     "execution_count": 44,
     "metadata": {},
     "output_type": "execute_result"
    }
   ],
   "source": [
    "numel_list = [p.numel() for p in model.parameters()]\n",
    "sum(numel_list), numel_list"
   ]
  },
  {
   "cell_type": "code",
   "execution_count": 45,
   "metadata": {},
   "outputs": [
    {
     "data": {
      "text/plain": [
       "tensor([[ 0.0064, -0.0160]], grad_fn=<AddmmBackward0>)"
      ]
     },
     "execution_count": 45,
     "metadata": {},
     "output_type": "execute_result"
    }
   ],
   "source": [
    "model(img.unsqueeze(0))"
   ]
  },
  {
   "cell_type": "code",
   "execution_count": 46,
   "metadata": {},
   "outputs": [],
   "source": [
    "class ConvNet(nn.Module):\n",
    "    def __init__(self):\n",
    "        super().__init__()\n",
    "        self.conv1 = nn.Conv2d(3, 16, kernel_size=3, padding=1)\n",
    "        self.act1 = nn.Tanh()\n",
    "        self.pool1 = nn.MaxPool2d(2)\n",
    "        self.conv2 = nn.Conv2d(16, 8, kernel_size=3, padding=1)\n",
    "        self.act2 = nn.Tanh()\n",
    "        self.pool2 = nn.MaxPool2d(2)\n",
    "        self.fc1 = nn.Linear(8*8*8, 32)\n",
    "        self.act3 = nn.Tanh()\n",
    "        self.fc2 = nn.Linear(32, 2)\n",
    "\n",
    "    def forward(self, img):\n",
    "        out = self.pool1(self.act1(self.conv1(img)))\n",
    "        out = self.pool2(self.act2(self.conv2(out)))\n",
    "        out = out.view(-1, 8*8*8)\n",
    "        out = self.act3(self.fc1(out))\n",
    "        out = self.fc2(out)\n",
    "\n",
    "        return out"
   ]
  },
  {
   "cell_type": "code",
   "execution_count": 47,
   "metadata": {},
   "outputs": [],
   "source": [
    "import torch.nn.functional as F\n",
    "\n",
    "class ConvNet(nn.Module):\n",
    "    def __init__(self):\n",
    "        super().__init__()\n",
    "        self.conv1 = nn.Conv2d(3, 16, kernel_size=3, padding=1)\n",
    "        self.conv2 = nn.Conv2d(16, 8, kernel_size=3, padding=1)\n",
    "        self.fc1 = nn.Linear(512, 32)\n",
    "        self.fc2 = nn.Linear(32, 2)\n",
    "    \n",
    "    def forward(self, img):\n",
    "        out = F.max_pool2d(torch.tanh(self.conv1(img)), 2)\n",
    "        out = F.max_pool2d(torch.tanh(self.conv2(out)), 2)\n",
    "        out = out.view(-1, 8*8*8)\n",
    "        out = torch.tanh(self.fc1(out))\n",
    "        out = self.fc2(out)\n",
    "\n",
    "        return out"
   ]
  },
  {
   "cell_type": "code",
   "execution_count": 48,
   "metadata": {},
   "outputs": [
    {
     "data": {
      "text/plain": [
       "tensor([[ 0.0077, -0.0080]], grad_fn=<AddmmBackward0>)"
      ]
     },
     "execution_count": 48,
     "metadata": {},
     "output_type": "execute_result"
    }
   ],
   "source": [
    "model = ConvNet()\n",
    "output = model(img.unsqueeze(0))\n",
    "output"
   ]
  },
  {
   "cell_type": "code",
   "execution_count": 49,
   "metadata": {},
   "outputs": [],
   "source": [
    "import datetime\n",
    "\n",
    "def training_loop(n_epochs, optimizer, model, loss_fn, train_loader):\n",
    "    for epoch in range(1, n_epochs+1):\n",
    "        loss_train = 0.0\n",
    "        for imgs, labels in train_loader:\n",
    "            out = model(imgs)\n",
    "            loss = loss_fn(out, labels)\n",
    "            \n",
    "            optimizer.zero_grad()\n",
    "            loss.backward()\n",
    "            optimizer.step()\n",
    "\n",
    "            loss_train += loss.item()\n",
    "\n",
    "        if epoch ==1 or epoch % 10 == 0:\n",
    "            print(f'{datetime.datetime.now()} Epoch: {epoch}, Training Loss: {loss_train/len(train_loader)}')"
   ]
  },
  {
   "cell_type": "code",
   "execution_count": 50,
   "metadata": {},
   "outputs": [
    {
     "name": "stdout",
     "output_type": "stream",
     "text": [
      "2024-02-22 22:24:05.104441 Epoch: 1, Training Loss: 0.5772960058822754\n",
      "2024-02-22 22:25:50.140455 Epoch: 10, Training Loss: 0.3507253421340019\n"
     ]
    }
   ],
   "source": [
    "train_loader = torch.utils.data.DataLoader(cifar2, shuffle=True, batch_size=64)\n",
    "\n",
    "model = ConvNet()\n",
    "optimizer = optim.SGD(model.parameters(), 1e-2)\n",
    "loss_fn = nn.CrossEntropyLoss()\n",
    "\n",
    "training_loop(10, optimizer, model, loss_fn, train_loader)"
   ]
  },
  {
   "cell_type": "code",
   "execution_count": 51,
   "metadata": {},
   "outputs": [
    {
     "name": "stdout",
     "output_type": "stream",
     "text": [
      "train: 0.847\n",
      "val: 0.842\n"
     ]
    }
   ],
   "source": [
    "train_loader = torch.utils.data.DataLoader(cifar2, batch_size=64, shuffle=False)\n",
    "val_loader = torch.utils.data.DataLoader(cifar2_val, batch_size=64, shuffle=False)\n",
    "\n",
    "def validate(model, train_loader, val_loader):\n",
    "    for name, loader in [('train', train_loader), ('val', val_loader)]:\n",
    "        correct = 0\n",
    "        total = 0 \n",
    "\n",
    "        with torch.no_grad():\n",
    "            for imgs, labels in loader:\n",
    "                out = model(imgs)\n",
    "                _, predicted = torch.max(out, dim=1)\n",
    "                total += labels.shape[0]\n",
    "                correct += int((predicted == labels).sum())\n",
    "\n",
    "        print(f'{name}: {correct/total:.3f}') \n",
    "\n",
    "validate(model, train_loader, val_loader)"
   ]
  },
  {
   "cell_type": "code",
   "execution_count": 52,
   "metadata": {},
   "outputs": [],
   "source": [
    "torch.save(model.state_dict(), '../data/p1ch8/bird_vs_planes.pt')"
   ]
  },
  {
   "cell_type": "code",
   "execution_count": 53,
   "metadata": {},
   "outputs": [
    {
     "data": {
      "text/plain": [
       "<All keys matched successfully>"
      ]
     },
     "execution_count": 53,
     "metadata": {},
     "output_type": "execute_result"
    }
   ],
   "source": [
    "loaded_model = ConvNet()\n",
    "loaded_model.load_state_dict(torch.load('../data/p1ch8/bird_vs_planes.pt'))"
   ]
  },
  {
   "cell_type": "code",
   "execution_count": 54,
   "metadata": {},
   "outputs": [
    {
     "data": {
      "text/plain": [
       "device(type='mps')"
      ]
     },
     "execution_count": 54,
     "metadata": {},
     "output_type": "execute_result"
    }
   ],
   "source": [
    "device = (torch.device('mps') if torch.backends.mps.is_available()\n",
    "            else torch.device('cpu') )\n",
    "device"
   ]
  },
  {
   "cell_type": "code",
   "execution_count": 55,
   "metadata": {},
   "outputs": [],
   "source": [
    "def training_loop(n_epochs, optimizer, model, loss_fn, train_loader):\n",
    "    for epoch in range(1, n_epochs+1):\n",
    "        loss_train = 0.0\n",
    "        for imgs, labels in train_loader:\n",
    "            imgs = imgs.to(device=device)\n",
    "            labels = labels.to(device=device)\n",
    "            out = model(imgs)\n",
    "            loss = loss_fn(out, labels)\n",
    "            \n",
    "            optimizer.zero_grad()\n",
    "            loss.backward()\n",
    "            optimizer.step()\n",
    "\n",
    "            loss_train += loss.item()\n",
    "\n",
    "        if epoch ==1 or epoch % 10 == 0:\n",
    "            print(f'{datetime.datetime.now()} Epoch: {epoch}, Training Loss: {loss_train/len(train_loader)}')"
   ]
  },
  {
   "cell_type": "code",
   "execution_count": 56,
   "metadata": {},
   "outputs": [
    {
     "name": "stdout",
     "output_type": "stream",
     "text": [
      "2024-02-22 22:25:52.577464 Epoch: 1, Training Loss: 0.5919078677702861\n",
      "2024-02-22 22:25:59.084114 Epoch: 10, Training Loss: 0.332941460096912\n",
      "2024-02-22 22:26:05.701055 Epoch: 20, Training Loss: 0.2957310652372184\n",
      "2024-02-22 22:26:12.193012 Epoch: 30, Training Loss: 0.27019992508706014\n",
      "2024-02-22 22:26:18.810928 Epoch: 40, Training Loss: 0.24895288515242803\n",
      "2024-02-22 22:26:25.284458 Epoch: 50, Training Loss: 0.23132044874179136\n",
      "2024-02-22 22:26:31.833233 Epoch: 60, Training Loss: 0.21430483308567363\n",
      "2024-02-22 22:26:38.304146 Epoch: 70, Training Loss: 0.19812926393785293\n",
      "2024-02-22 22:26:44.769192 Epoch: 80, Training Loss: 0.1861594908508905\n",
      "2024-02-22 22:26:51.535225 Epoch: 90, Training Loss: 0.1678439846179288\n",
      "2024-02-22 22:26:58.052429 Epoch: 100, Training Loss: 0.15525320850929636\n"
     ]
    }
   ],
   "source": [
    "train_loader = torch.utils.data.DataLoader(cifar2, shuffle=True, batch_size=64)\n",
    "\n",
    "model = ConvNet().to(device=device)\n",
    "optimizer = optim.SGD(model.parameters(), 1e-2)\n",
    "loss_fn = nn.CrossEntropyLoss()\n",
    "\n",
    "training_loop(100, optimizer, model, loss_fn, train_loader)"
   ]
  },
  {
   "cell_type": "code",
   "execution_count": 57,
   "metadata": {},
   "outputs": [],
   "source": [
    "torch.save(model.state_dict(), '../data/p1ch8/bird_vs_planes_gpu.pt')"
   ]
  },
  {
   "cell_type": "code",
   "execution_count": 58,
   "metadata": {},
   "outputs": [
    {
     "data": {
      "text/plain": [
       "<All keys matched successfully>"
      ]
     },
     "execution_count": 58,
     "metadata": {},
     "output_type": "execute_result"
    }
   ],
   "source": [
    "loaded_model = ConvNet()\n",
    "loaded_model.load_state_dict(torch.load('../data/p1ch8/bird_vs_planes_gpu.pt', map_location=device))"
   ]
  },
  {
   "cell_type": "code",
   "execution_count": 59,
   "metadata": {},
   "outputs": [],
   "source": [
    "all_acc_dict = collections.OrderedDict()"
   ]
  },
  {
   "cell_type": "code",
   "execution_count": 60,
   "metadata": {},
   "outputs": [
    {
     "name": "stdout",
     "output_type": "stream",
     "text": [
      "Accuracy train: 0.94\n",
      "Accuracy val: 0.88\n"
     ]
    }
   ],
   "source": [
    "def validate(model, train_loader, val_loader):\n",
    "    acc_dict = {}\n",
    "\n",
    "    for name, loader in [('train', train_loader), ('val', val_loader)]:\n",
    "        correct = 0\n",
    "        total = 0\n",
    "\n",
    "        with torch.no_grad():\n",
    "            for imgs, labels in loader:\n",
    "                imgs = imgs.to(device=device)\n",
    "                labels = labels.to(device=device)\n",
    "\n",
    "                outs = model(imgs)\n",
    "                _, predicted = torch.max(outs, dim=1)\n",
    "                total += labels.shape[0]\n",
    "                correct += int((predicted == labels).sum())\n",
    "\n",
    "            acc_dict[name] = correct/total\n",
    "            print(f'Accuracy {name}: {correct/total:.2f}')\n",
    "    \n",
    "    return acc_dict\n",
    "\n",
    "all_acc_dict['baseline'] = validate(model, train_loader, val_loader)"
   ]
  },
  {
   "cell_type": "code",
   "execution_count": 61,
   "metadata": {},
   "outputs": [],
   "source": [
    "class NetWidth(nn.Module):\n",
    "    def __init__(self):\n",
    "        super().__init__()\n",
    "        self.conv1 = nn.Conv2d(3, 32, kernel_size=3, padding=1)\n",
    "        self.conv2 = nn.Conv2d(32, 16, kernel_size=3, padding=1)\n",
    "        self.fc1 = nn.Linear(16*8*8, 128)\n",
    "        self.fc2 = nn.Linear(128, 2)\n",
    "    \n",
    "    def forward(self, x):\n",
    "        x = F.max_pool2d(torch.tanh((self.conv1(x))), 2)\n",
    "        x = F.max_pool2d(torch.tanh((self.conv1(x))), 2)\n",
    "        x = x.view(-1, 16*8*8)\n",
    "        x = torch.tanh(self.fc1(x))\n",
    "        x = self.fc2(x)\n",
    "\n",
    "        return x"
   ]
  },
  {
   "cell_type": "code",
   "execution_count": 62,
   "metadata": {},
   "outputs": [],
   "source": [
    "class NetWidth(nn.Module):\n",
    "    def __init__(self, n_chl=32):\n",
    "        super().__init__()\n",
    "        self.n_chl = n_chl\n",
    "        self.conv1 = nn.Conv2d(3, n_chl, kernel_size=3, padding=1)\n",
    "        self.conv2 = nn.Conv2d(n_chl, n_chl//2, kernel_size=3, padding=1)\n",
    "        self.fc1 = nn.Linear(n_chl//2*8*8, 128)\n",
    "        self.fc2 = nn.Linear(128, 2)\n",
    "    \n",
    "    def forward(self, x):\n",
    "        x = F.max_pool2d(torch.tanh(self.conv1(x)), 2)\n",
    "        x = F.max_pool2d(torch.tanh(self.conv2(x)), 2)\n",
    "        x = x.view(-1, self.n_chl//2*8*8)\n",
    "        x = torch.tanh(self.fc1(x))\n",
    "        x = self.fc2(x)\n",
    "\n",
    "        return x"
   ]
  },
  {
   "cell_type": "code",
   "execution_count": 111,
   "metadata": {},
   "outputs": [
    {
     "data": {
      "text/plain": [
       "(136978, [864, 32, 4608, 16, 131072, 128, 256, 2])"
      ]
     },
     "execution_count": 111,
     "metadata": {},
     "output_type": "execute_result"
    }
   ],
   "source": [
    "model = NetWidth().to(device=device)\n",
    "p_numel = [p.numel() for p in model.parameters()]\n",
    "sum(p_numel), p_numel"
   ]
  },
  {
   "cell_type": "code",
   "execution_count": 63,
   "metadata": {},
   "outputs": [
    {
     "name": "stdout",
     "output_type": "stream",
     "text": [
      "2024-02-22 22:26:59.532557 Epoch: 1, Training Loss: 0.5449151599862773\n",
      "2024-02-22 22:27:07.440471 Epoch: 10, Training Loss: 0.31462951972606074\n",
      "2024-02-22 22:27:16.266854 Epoch: 20, Training Loss: 0.2686987490790665\n",
      "2024-02-22 22:27:25.877169 Epoch: 30, Training Loss: 0.24219324335360984\n",
      "2024-02-22 22:27:34.887733 Epoch: 40, Training Loss: 0.21432294255229317\n",
      "2024-02-22 22:27:43.674210 Epoch: 50, Training Loss: 0.19201517351873362\n",
      "2024-02-22 22:27:52.507820 Epoch: 60, Training Loss: 0.16965463861917993\n",
      "2024-02-22 22:28:01.256813 Epoch: 70, Training Loss: 0.15019063359707785\n",
      "2024-02-22 22:28:10.051680 Epoch: 80, Training Loss: 0.13089677677222877\n",
      "2024-02-22 22:28:18.975773 Epoch: 90, Training Loss: 0.10879683855232919\n",
      "2024-02-22 22:28:27.752277 Epoch: 100, Training Loss: 0.09190000448921684\n",
      "Accuracy train: 0.97\n",
      "Accuracy val: 0.89\n"
     ]
    }
   ],
   "source": [
    "model = NetWidth().to(device=device)\n",
    "optimizer = torch.optim.SGD(model.parameters(), lr=1e-2)\n",
    "loss_fn = nn.CrossEntropyLoss()\n",
    "\n",
    "training_loop(\n",
    "    100,\n",
    "    optimizer,\n",
    "    model,\n",
    "    loss_fn,\n",
    "    train_loader\n",
    ")\n",
    "\n",
    "all_acc_dict[\"width\"] = validate(model, train_loader, val_loader)"
   ]
  },
  {
   "cell_type": "code",
   "execution_count": 64,
   "metadata": {},
   "outputs": [],
   "source": [
    "def training_loop_l2reg(n_epochs, optimizer, model, loss_fn,\n",
    "                        train_loader):\n",
    "    for epoch in range(1, n_epochs + 1):\n",
    "        loss_train = 0.0\n",
    "        for imgs, labels in train_loader:\n",
    "            imgs = imgs.to(device=device)\n",
    "            labels = labels.to(device=device)\n",
    "            outputs = model(imgs)\n",
    "            loss = loss_fn(outputs, labels)\n",
    " \n",
    "            l2_lambda = 0.001\n",
    "            l2_norm = sum(p.pow(2.0).sum()\n",
    "                          for p in model.parameters())\n",
    "            loss = loss + l2_lambda * l2_norm # pytorch optims come with weight_decay so we don't need to do this\n",
    " \n",
    "            optimizer.zero_grad()\n",
    "            loss.backward()\n",
    "            optimizer.step()\n",
    " \n",
    "            loss_train += loss.item()\n",
    "        if epoch == 1 or epoch % 10 == 0:\n",
    "            print('{} Epoch {}, Training loss {}'.format(\n",
    "                datetime.datetime.now(), epoch,\n",
    "                loss_train / len(train_loader)))"
   ]
  },
  {
   "cell_type": "code",
   "execution_count": 65,
   "metadata": {},
   "outputs": [
    {
     "name": "stdout",
     "output_type": "stream",
     "text": [
      "2024-02-22 22:28:30.415647 Epoch 1, Training loss 0.5871296995764326\n",
      "2024-02-22 22:28:41.487921 Epoch 10, Training loss 0.3576106181380096\n",
      "2024-02-22 22:28:53.289919 Epoch 20, Training loss 0.32170760745455507\n",
      "2024-02-22 22:29:05.067123 Epoch 30, Training loss 0.2949266143285545\n",
      "2024-02-22 22:29:16.862866 Epoch 40, Training loss 0.27398275731095845\n",
      "2024-02-22 22:29:28.911335 Epoch 50, Training loss 0.2563651980962723\n",
      "2024-02-22 22:29:40.761361 Epoch 60, Training loss 0.24566468145627124\n",
      "2024-02-22 22:29:52.612443 Epoch 70, Training loss 0.2320577706311159\n",
      "2024-02-22 22:30:04.444474 Epoch 80, Training loss 0.22224137419538134\n",
      "2024-02-22 22:30:16.269484 Epoch 90, Training loss 0.21477875137215208\n",
      "2024-02-22 22:30:28.290761 Epoch 100, Training loss 0.20572106222248382\n",
      "Accuracy train: 0.93\n",
      "Accuracy val: 0.90\n"
     ]
    }
   ],
   "source": [
    "model = ConvNet().to(device=device)\n",
    "optimizer = torch.optim.SGD(model.parameters(), lr=1e-2)\n",
    "loss_fn = nn.CrossEntropyLoss()\n",
    "\n",
    "training_loop_l2reg(\n",
    "    100,\n",
    "    optimizer,\n",
    "    model,\n",
    "    loss_fn,\n",
    "    train_loader\n",
    ")\n",
    "\n",
    "all_acc_dict['l2_reg'] = validate(model, train_loader, val_loader)"
   ]
  },
  {
   "cell_type": "code",
   "execution_count": 74,
   "metadata": {},
   "outputs": [],
   "source": [
    "class NetDropout(nn.Module):\n",
    "    def __init__(self, n_chl=32):\n",
    "        super().__init__()\n",
    "        self.n_chl = n_chl\n",
    "        self.conv1 = nn.Conv2d(3, n_chl, kernel_size=3, padding=1)\n",
    "        self.conv2 = nn.Conv2d(n_chl, n_chl//2, kernel_size=3, padding=1)\n",
    "        self.drop1 = nn.Dropout2d(p=0.4)\n",
    "        self.drop2 = nn.Dropout2d(p=0.4)\n",
    "        self.fc1 = nn.Linear(n_chl//2*8*8, 32)\n",
    "        self.fc2 = nn.Linear(32, 2)\n",
    "\n",
    "    def forward(self, x):\n",
    "        x = F.max_pool2d(torch.tanh(self.conv1(x)), 2)\n",
    "        x = self.drop1(x)\n",
    "        x = F.max_pool2d(torch.tanh(self.conv2(x)), 2)\n",
    "        x = self.drop2(x)\n",
    "        x = x.view(-1, self.n_chl//2*8*8)\n",
    "        x = torch.tanh(self.fc1(x))\n",
    "        x = self.fc2(x)\n",
    "\n",
    "        return x"
   ]
  },
  {
   "cell_type": "code",
   "execution_count": 75,
   "metadata": {},
   "outputs": [
    {
     "name": "stdout",
     "output_type": "stream",
     "text": [
      "2024-02-22 22:37:24.160601 Epoch: 1, Training Loss: 0.5496878517661125\n",
      "2024-02-22 22:37:33.489533 Epoch: 10, Training Loss: 0.37477678905247125\n",
      "2024-02-22 22:37:43.458400 Epoch: 20, Training Loss: 0.3463282560466961\n",
      "2024-02-22 22:37:53.430156 Epoch: 30, Training Loss: 0.3273184625016656\n",
      "2024-02-22 22:38:03.223055 Epoch: 40, Training Loss: 0.3104323052866444\n",
      "2024-02-22 22:38:12.916699 Epoch: 50, Training Loss: 0.2963821258704374\n",
      "2024-02-22 22:38:22.730509 Epoch: 60, Training Loss: 0.2844595412729652\n",
      "2024-02-22 22:38:32.441208 Epoch: 70, Training Loss: 0.26658063054464426\n",
      "2024-02-22 22:38:42.110327 Epoch: 80, Training Loss: 0.25935590067866504\n",
      "2024-02-22 22:38:51.793963 Epoch: 90, Training Loss: 0.2514075774960457\n",
      "2024-02-22 22:39:01.470669 Epoch: 100, Training Loss: 0.23555298942099712\n",
      "Accuracy train: 0.92\n",
      "Accuracy val: 0.90\n"
     ]
    }
   ],
   "source": [
    "model = NetDropout(n_chl=32).to(device=device)\n",
    "optimizer = torch.optim.SGD(model.parameters(), lr=1e-2)\n",
    "loss_fn = nn.CrossEntropyLoss()\n",
    "\n",
    "model.train()\n",
    "training_loop(\n",
    "    100,\n",
    "    optimizer,\n",
    "    model,\n",
    "    loss_fn,\n",
    "    train_loader\n",
    ")\n",
    "\n",
    "model.eval()\n",
    "all_acc_dict['dropout'] = validate(model, train_loader, val_loader)"
   ]
  },
  {
   "cell_type": "code",
   "execution_count": 76,
   "metadata": {},
   "outputs": [
    {
     "data": {
      "text/plain": [
       "NetDropout(\n",
       "  (conv1): Conv2d(3, 32, kernel_size=(3, 3), stride=(1, 1), padding=(1, 1))\n",
       "  (conv2): Conv2d(32, 16, kernel_size=(3, 3), stride=(1, 1), padding=(1, 1))\n",
       "  (drop1): Dropout2d(p=0.4, inplace=False)\n",
       "  (drop2): Dropout2d(p=0.4, inplace=False)\n",
       "  (fc1): Linear(in_features=1024, out_features=32, bias=True)\n",
       "  (fc2): Linear(in_features=32, out_features=2, bias=True)\n",
       ")"
      ]
     },
     "execution_count": 76,
     "metadata": {},
     "output_type": "execute_result"
    }
   ],
   "source": [
    "model = NetDropout()\n",
    "model.train()"
   ]
  },
  {
   "cell_type": "code",
   "execution_count": 77,
   "metadata": {},
   "outputs": [
    {
     "data": {
      "text/plain": [
       "NetDropout(\n",
       "  (conv1): Conv2d(3, 32, kernel_size=(3, 3), stride=(1, 1), padding=(1, 1))\n",
       "  (conv2): Conv2d(32, 16, kernel_size=(3, 3), stride=(1, 1), padding=(1, 1))\n",
       "  (drop1): Dropout2d(p=0.4, inplace=False)\n",
       "  (drop2): Dropout2d(p=0.4, inplace=False)\n",
       "  (fc1): Linear(in_features=1024, out_features=32, bias=True)\n",
       "  (fc2): Linear(in_features=32, out_features=2, bias=True)\n",
       ")"
      ]
     },
     "execution_count": 77,
     "metadata": {},
     "output_type": "execute_result"
    }
   ],
   "source": [
    "model.eval() # we can't see below but dropout will be turned off during eval"
   ]
  },
  {
   "cell_type": "code",
   "execution_count": 86,
   "metadata": {},
   "outputs": [],
   "source": [
    "class NetBatchNorm(nn.Module):\n",
    "    def __init__(self, n_chl=32):\n",
    "        super().__init__()\n",
    "        self.n_chl = n_chl\n",
    "        self.conv1 = nn.Conv2d(3, n_chl, kernel_size=3, padding=1)\n",
    "        self.conv1_batchnorm = nn.BatchNorm2d(num_features=n_chl)\n",
    "        self.conv2 = nn.Conv2d(n_chl, n_chl//2, kernel_size=3, padding=1)\n",
    "        self.conv2_batchnorm = nn.BatchNorm2d(num_features=n_chl//2)\n",
    "        self.fc1 = nn.Linear(n_chl//2*8*8, 32)\n",
    "        self.fc2 = nn.Linear(32, 2)\n",
    "\n",
    "    def forward(self, x):\n",
    "        x = self.conv1_batchnorm(self.conv1(x))\n",
    "        x = F.max_pool2d(torch.tanh(x), 2)\n",
    "\n",
    "        x = self.conv2_batchnorm(self.conv2(x))\n",
    "        x = F.max_pool2d(torch.tanh(x), 2)\n",
    "\n",
    "        x = x.view(-1, self.n_chl//2*8*8)\n",
    "        x = torch.tanh(self.fc1(x))\n",
    "        x = self.fc2(x)\n",
    "\n",
    "        return x\n"
   ]
  },
  {
   "cell_type": "code",
   "execution_count": 87,
   "metadata": {},
   "outputs": [
    {
     "name": "stdout",
     "output_type": "stream",
     "text": [
      "2024-02-22 22:44:56.563451 Epoch: 1, Training Loss: 0.47088500895317953\n",
      "2024-02-22 22:45:05.793585 Epoch: 10, Training Loss: 0.267878041715379\n",
      "2024-02-22 22:45:15.588037 Epoch: 20, Training Loss: 0.21563760822366\n",
      "2024-02-22 22:45:26.110341 Epoch: 30, Training Loss: 0.175705256925267\n",
      "2024-02-22 22:45:36.159906 Epoch: 40, Training Loss: 0.1384810528889963\n",
      "2024-02-22 22:45:45.823396 Epoch: 50, Training Loss: 0.10296995145310263\n",
      "2024-02-22 22:45:55.759597 Epoch: 60, Training Loss: 0.07827183875925602\n",
      "2024-02-22 22:46:05.478568 Epoch: 70, Training Loss: 0.055473515668966966\n",
      "2024-02-22 22:46:15.122181 Epoch: 80, Training Loss: 0.0407787021071573\n",
      "2024-02-22 22:46:24.890288 Epoch: 90, Training Loss: 0.02811072162014379\n",
      "2024-02-22 22:46:34.610547 Epoch: 100, Training Loss: 0.02057566304519108\n",
      "Accuracy train: 1.00\n",
      "Accuracy val: 0.89\n"
     ]
    }
   ],
   "source": [
    "model = NetBatchNorm(n_chl=32).to(device=device)\n",
    "optimizer = torch.optim.SGD(model.parameters(), lr=1e-2)\n",
    "loss_fn = nn.CrossEntropyLoss()\n",
    "\n",
    "model.train()\n",
    "training_loop(\n",
    "    100,\n",
    "    optimizer,\n",
    "    model,\n",
    "    loss_fn,\n",
    "    train_loader\n",
    ")\n",
    "\n",
    "model.eval()\n",
    "all_acc_dict['batch_norm'] = validate(model, train_loader, val_loader)"
   ]
  },
  {
   "cell_type": "code",
   "execution_count": 93,
   "metadata": {},
   "outputs": [],
   "source": [
    "class NetDepth(nn.Module):\n",
    "    def __init__(self, n_chl=32):\n",
    "        super().__init__()\n",
    "        self.n_chl = n_chl\n",
    "        self.conv1 = nn.Conv2d(3, n_chl, kernel_size=3, padding=1)\n",
    "        self.conv2 = nn.Conv2d(n_chl, n_chl//2, kernel_size=3, padding=1)\n",
    "        self.conv3 = nn.Conv2d(n_chl//2, n_chl//2, kernel_size=3, padding=1)\n",
    "        self.fc1 = nn.Linear(n_chl//2*4*4, 32)\n",
    "        self.fc2 = nn.Linear(32, 2)\n",
    "\n",
    "    def forward(self, x):\n",
    "        x = F.max_pool2d(torch.relu(self.conv1(x)), 2)\n",
    "        x = F.max_pool2d(torch.relu(self.conv2(x)), 2)\n",
    "        x = F.max_pool2d(torch.relu(self.conv3(x)), 2)\n",
    "\n",
    "        x = x.view(-1, self.n_chl//2*4*4)\n",
    "        x = torch.relu(self.fc1(x))\n",
    "        x = self.fc2(x)\n",
    "\n",
    "        return x"
   ]
  },
  {
   "cell_type": "code",
   "execution_count": 94,
   "metadata": {},
   "outputs": [
    {
     "name": "stdout",
     "output_type": "stream",
     "text": [
      "2024-02-22 23:08:17.660864 Epoch: 1, Training Loss: 0.6863070927607785\n",
      "2024-02-22 23:08:27.028527 Epoch: 10, Training Loss: 0.3477553095977018\n",
      "2024-02-22 23:08:38.226202 Epoch: 20, Training Loss: 0.3018490527845492\n",
      "2024-02-22 23:08:48.627476 Epoch: 30, Training Loss: 0.27377184546866995\n",
      "2024-02-22 23:08:58.979504 Epoch: 40, Training Loss: 0.24582108817282755\n",
      "2024-02-22 23:09:09.038995 Epoch: 50, Training Loss: 0.22149681570423638\n",
      "2024-02-22 23:09:19.227972 Epoch: 60, Training Loss: 0.19538701482259543\n",
      "2024-02-22 23:09:29.220077 Epoch: 70, Training Loss: 0.1635103155710515\n",
      "2024-02-22 23:09:39.145193 Epoch: 80, Training Loss: 0.1417828198688425\n",
      "2024-02-22 23:09:49.164295 Epoch: 90, Training Loss: 0.11541883379315875\n",
      "2024-02-22 23:09:59.067356 Epoch: 100, Training Loss: 0.09415764107730738\n",
      "Accuracy train: 0.87\n",
      "Accuracy val: 0.83\n"
     ]
    }
   ],
   "source": [
    "model = NetDepth(n_chl=32).to(device=device)\n",
    "optimizer = optim.SGD(model.parameters(), lr=1e-2)\n",
    "loss_fn = nn.CrossEntropyLoss()\n",
    "\n",
    "model.train()\n",
    "training_loop(\n",
    "    100,\n",
    "    optimizer,\n",
    "    model,\n",
    "    loss_fn,\n",
    "    train_loader,\n",
    ")\n",
    "\n",
    "model.eval()\n",
    "all_acc_dict[\"depth\"] = validate(model, train_loader, val_loader)"
   ]
  },
  {
   "cell_type": "code",
   "execution_count": 95,
   "metadata": {},
   "outputs": [],
   "source": [
    "class NetRes(nn.Module):\n",
    "    def __init__(self, n_chl=32):\n",
    "        super().__init__()\n",
    "        self.n_chl = n_chl\n",
    "        self.conv1 = nn.Conv2d(3, n_chl, kernel_size=3, padding=1)\n",
    "        self.conv2 = nn.Conv2d(n_chl, n_chl//2, kernel_size=3, padding=1)\n",
    "        self.conv3 = nn.Conv2d(n_chl//2, n_chl//2, kernel_size=3, padding=1)\n",
    "        self.fc1 = nn.Linear(n_chl//2*4*4, 32)\n",
    "        self.fc2 = nn.Linear(32, 2)\n",
    "\n",
    "    def forward(self, x):\n",
    "        x = F.max_pool2d(torch.relu(self.conv1(x)), 2)\n",
    "        x = F.max_pool2d(torch.relu(self.conv2(x)), 2)\n",
    "        x1 = x\n",
    "        x = F.max_pool2d(torch.relu(self.conv3(x))+x1, 2)\n",
    "\n",
    "        x = x.view(-1, self.n_chl//2*4*4)\n",
    "        x = torch.relu(self.fc1(x))\n",
    "        x = self.fc2(x)\n",
    "\n",
    "        return x"
   ]
  },
  {
   "cell_type": "code",
   "execution_count": 96,
   "metadata": {},
   "outputs": [
    {
     "name": "stdout",
     "output_type": "stream",
     "text": [
      "2024-02-22 23:11:23.218976 Epoch: 1, Training Loss: 0.6068384383514429\n",
      "2024-02-22 23:11:33.006141 Epoch: 10, Training Loss: 0.3183202324968994\n",
      "2024-02-22 23:11:42.907998 Epoch: 20, Training Loss: 0.26639070974034107\n",
      "2024-02-22 23:11:52.779951 Epoch: 30, Training Loss: 0.23474942987701694\n",
      "2024-02-22 23:12:02.764295 Epoch: 40, Training Loss: 0.20737476257761572\n",
      "2024-02-22 23:12:12.709952 Epoch: 50, Training Loss: 0.17903301803169736\n",
      "2024-02-22 23:12:22.643713 Epoch: 60, Training Loss: 0.15936517421227353\n",
      "2024-02-22 23:12:32.696437 Epoch: 70, Training Loss: 0.13244268287471525\n",
      "2024-02-22 23:12:42.763512 Epoch: 80, Training Loss: 0.11463800655191492\n",
      "2024-02-22 23:12:52.693668 Epoch: 90, Training Loss: 0.09140184846155014\n",
      "2024-02-22 23:13:02.740803 Epoch: 100, Training Loss: 0.07264784022358953\n",
      "Accuracy train: 0.74\n",
      "Accuracy val: 0.73\n"
     ]
    }
   ],
   "source": [
    "model = NetRes(n_chl=32).to(device=device)\n",
    "optimizer = optim.SGD(model.parameters(), lr=1e-2)\n",
    "loss_fn = nn.CrossEntropyLoss()\n",
    "\n",
    "model.train()\n",
    "training_loop(\n",
    "    100,\n",
    "    optimizer,\n",
    "    model,\n",
    "    loss_fn,\n",
    "    train_loader,\n",
    ")\n",
    "\n",
    "model.eval()\n",
    "all_acc_dict[\"resnet\"] = validate(model, train_loader, val_loader)"
   ]
  },
  {
   "cell_type": "code",
   "execution_count": 97,
   "metadata": {},
   "outputs": [],
   "source": [
    "class ResBloc(nn.Module):\n",
    "    def __init__(self, n_chl):\n",
    "        super().__init__()\n",
    "        self.n_chl = n_chl\n",
    "        self.conv = nn.Conv2d(n_chl, n_chl, kernel_size=3, padding=1, bias=False)\n",
    "        self.norm = nn.BatchNorm2d(num_features=n_chl)\n",
    "        torch.nn.init.kaiming_normal_(self.conv.weight, nonlinearity='relu')\n",
    "        torch.nn.init.constant_(self.norm.weight, 0.5)\n",
    "        torch.nn.init.zeros_(self.norm.bias)\n",
    "\n",
    "    def forward(self, x):\n",
    "        out = self.conv(x)\n",
    "        out = self.norm(out)\n",
    "        out = torch.relu(out)\n",
    "\n",
    "        return out + x"
   ]
  },
  {
   "cell_type": "code",
   "execution_count": 106,
   "metadata": {},
   "outputs": [],
   "source": [
    "class NetResDeep(nn.Module):\n",
    "    def __init__(self, n_chl=32, n_blocks=10):\n",
    "        super().__init__()\n",
    "        self.n_chl = n_chl\n",
    "        self.conv = nn.Conv2d(3, n_chl, kernel_size=3, padding=1)\n",
    "        self.resblock = nn.Sequential(*(n_blocks*[ResBloc(n_chl)]))\n",
    "        self.fc1 = nn.Linear(n_chl*8*8, 32)\n",
    "        self.fc2 = nn.Linear(32, 2)\n",
    "\n",
    "    def forward(self, x):\n",
    "        x = F.max_pool2d(torch.relu(self.conv(x)), 2)\n",
    "        x = self.resblock(x)\n",
    "        x = F.max_pool2d(x, 2)\n",
    "        \n",
    "        x = x.view(-1, self.n_chl*8*8)\n",
    "        x = torch.relu(self.fc1(x))\n",
    "        x = self.fc2(x)\n",
    "\n",
    "        return x"
   ]
  },
  {
   "cell_type": "code",
   "execution_count": 107,
   "metadata": {},
   "outputs": [
    {
     "name": "stdout",
     "output_type": "stream",
     "text": [
      "2024-02-22 23:33:52.834274 Epoch: 1, Training Loss: 4.1302849086606575\n",
      "2024-02-22 23:36:28.299461 Epoch: 10, Training Loss: 0.3906219269439673\n",
      "2024-02-22 23:39:18.632970 Epoch: 20, Training Loss: 0.3281611849547951\n",
      "2024-02-22 23:42:08.824169 Epoch: 30, Training Loss: 0.27019470526724104\n",
      "2024-02-22 23:44:57.432738 Epoch: 40, Training Loss: 0.2431483787431079\n",
      "2024-02-22 23:47:45.462773 Epoch: 50, Training Loss: 0.21156906317563573\n",
      "2024-02-22 23:50:33.395983 Epoch: 60, Training Loss: 0.1870930713785302\n",
      "2024-02-22 23:53:21.352367 Epoch: 70, Training Loss: 0.16804969590750468\n",
      "2024-02-22 23:56:09.467245 Epoch: 80, Training Loss: 0.1584037903482747\n",
      "2024-02-22 23:59:03.022744 Epoch: 90, Training Loss: 0.13030772863822\n",
      "2024-02-23 00:01:51.308885 Epoch: 100, Training Loss: 0.1172305754724012\n",
      "Accuracy train: 0.80\n",
      "Accuracy val: 0.81\n"
     ]
    }
   ],
   "source": [
    "model = NetResDeep(n_chl=32, n_blocks=100).to(device=device)\n",
    "optimizer = torch.optim.SGD(model.parameters(), lr=1e-2)\n",
    "loss_fn = nn.CrossEntropyLoss()\n",
    "\n",
    "\n",
    "model.train()\n",
    "training_loop(\n",
    "    100,\n",
    "    optimizer,\n",
    "    model,\n",
    "    loss_fn,\n",
    "    train_loader\n",
    ")\n",
    "\n",
    "model.eval()\n",
    "all_acc_dict['res_deep'] = validate(model, train_loader, val_loader)\n"
   ]
  },
  {
   "cell_type": "code",
   "execution_count": 110,
   "metadata": {},
   "outputs": [
    {
     "data": {
      "text/plain": [
       "OrderedDict([('baseline', {'train': 0.9387, 'val': 0.881}),\n",
       "             ('width', {'train': 0.9698, 'val': 0.891}),\n",
       "             ('l2_reg', {'train': 0.9343, 'val': 0.9}),\n",
       "             ('dropout', {'train': 0.9234, 'val': 0.8985}),\n",
       "             ('batch_norm', {'train': 0.9975, 'val': 0.8855}),\n",
       "             ('depth', {'train': 0.8653, 'val': 0.832}),\n",
       "             ('resnet', {'train': 0.7433, 'val': 0.7315}),\n",
       "             ('res_deep', {'train': 0.7969, 'val': 0.811})])"
      ]
     },
     "execution_count": 110,
     "metadata": {},
     "output_type": "execute_result"
    }
   ],
   "source": [
    "all_acc_dict"
   ]
  },
  {
   "cell_type": "code",
   "execution_count": 109,
   "metadata": {},
   "outputs": [
    {
     "data": {
      "image/png": "[encoded data removed]",
      "text/plain": [
       "<Figure size 640x480 with 1 Axes>"
      ]
     },
     "metadata": {},
     "output_type": "display_data"
    }
   ],
   "source": [
    "import numpy as np\n",
    "\n",
    "trn_acc = [v['train'] for k, v in all_acc_dict.items()]\n",
    "val_acc = [v['val'] for k, v in all_acc_dict.items()]\n",
    "\n",
    "width =0.3\n",
    "plt.bar(np.arange(len(trn_acc)), trn_acc, width=width, label='train')\n",
    "plt.bar(np.arange(len(val_acc))+ width, val_acc, width=width, label='val')\n",
    "plt.xticks(np.arange(len(val_acc))+ width/2, list(all_acc_dict.keys()),\n",
    "           rotation=60)\n",
    "plt.ylabel('accuracy')\n",
    "plt.legend(loc='best')\n",
    "plt.ylim(0.7, 1)\n",
    "plt.savefig('accuracy_comparison.png', bbox_inches='tight')\n",
    "plt.show()"
   ]
  },
  {
   "cell_type": "code",
   "execution_count": null,
   "metadata": {},
   "outputs": [],
   "source": []
  }
 ],
 "metadata": {
  "kernelspec": {
   "display_name": "dlpytorch",
   "language": "python",
   "name": "python3"
  },
  "language_info": {
   "codemirror_mode": {
    "name": "ipython",
    "version": 3
   },
   "file_extension": ".py",
   "mimetype": "text/x-python",
   "name": "python",
   "nbconvert_exporter": "python",
   "pygments_lexer": "ipython3",
   "version": "3.11.2"
  }
 },
 "nbformat": 4,
 "nbformat_minor": 2
}
