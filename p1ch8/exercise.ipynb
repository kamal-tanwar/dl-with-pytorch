{
 "cells": [
  {
   "cell_type": "markdown",
   "metadata": {},
   "source": [
    "1. Change our model to use a 5 × 5 kernel with `kernel_size=5` passed to the `nn.Conv2d` constructor.\n",
    "\n",
    "    1. What impact does this change have on the number of parameters in the model?\n",
    "\n",
    "    2. Does the change improve or degrade overfitting?\n",
    "\n",
    "    3. Read https://pytorch.org/docs/stable/nn.html#conv2d.\n",
    "\n",
    "    4. Can you describe what `kernel_size=(1,3)` will do?\n",
    "\n",
    "    5. How does the model behave with such a kernel?\n",
    "\n",
    "2. Can you find an image that contains neither a bird nor an airplane, but that the model claims has one or the other with more than 95% confidence?\n",
    "\n",
    "    1. Can you manually edit a neutral image to make it more airplane-like?\n",
    "\n",
    "    2. Can you manually edit an airplane image to trick the model into reporting a bird?\n",
    "\n",
    "    3. Do these tasks get easier with a network with less capacity? More capacity?"
   ]
  },
  {
   "cell_type": "code",
   "execution_count": 9,
   "metadata": {},
   "outputs": [],
   "source": [
    "import numpy as np\n",
    "import torch\n",
    "import torch.nn as nn\n",
    "import torch.nn.functional as F\n",
    "from torchvision import datasets, transforms"
   ]
  },
  {
   "cell_type": "code",
   "execution_count": 8,
   "metadata": {},
   "outputs": [
    {
     "data": {
      "text/plain": [
       "tensor(0.8000)"
      ]
     },
     "execution_count": 8,
     "metadata": {},
     "output_type": "execute_result"
    }
   ],
   "source": []
  },
  {
   "cell_type": "code",
   "execution_count": null,
   "metadata": {},
   "outputs": [],
   "source": []
  }
 ],
 "metadata": {
  "kernelspec": {
   "display_name": "dlpytorch",
   "language": "python",
   "name": "python3"
  },
  "language_info": {
   "codemirror_mode": {
    "name": "ipython",
    "version": 3
   },
   "file_extension": ".py",
   "mimetype": "text/x-python",
   "name": "python",
   "nbconvert_exporter": "python",
   "pygments_lexer": "ipython3",
   "version": "3.11.2"
  }
 },
 "nbformat": 4,
 "nbformat_minor": 2
}
