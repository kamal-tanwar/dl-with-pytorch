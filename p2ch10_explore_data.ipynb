{
 "cells": [
  {
   "cell_type": "code",
   "execution_count": 1,
   "metadata": {},
   "outputs": [],
   "source": [
    "%matplotlib inline\n",
    "import numpy as np"
   ]
  },
  {
   "cell_type": "code",
   "execution_count": 2,
   "metadata": {},
   "outputs": [],
   "source": [
    "from p2ch10.datasets import getCandidateInfoList, getCt, LunaDataset"
   ]
  },
  {
   "cell_type": "code",
   "execution_count": 3,
   "metadata": {},
   "outputs": [],
   "source": [
    "candidateInfo_list = getCandidateInfoList(requireOnDisk_bool=False)\n",
    "positiveInfo_list = [x for x in candidateInfo_list if x[0]]\n",
    "diameter_list = [x[1] for x in positiveInfo_list]"
   ]
  },
  {
   "cell_type": "code",
   "execution_count": 4,
   "metadata": {},
   "outputs": [
    {
     "name": "stdout",
     "output_type": "stream",
     "text": [
      "1351\n",
      "CandidateInfoTuple(isNodule_bool=True, diameter_mm=32.27003025, series_uid='1.3.6.1.4.1.14519.5.2.1.6279.6001.287966244644280690737019247886', center_xyz=(75.7212243102, 92.8873310394, -119.270564052))\n"
     ]
    }
   ],
   "source": [
    "print(len(positiveInfo_list))\n",
    "print(positiveInfo_list[0])\n"
   ]
  },
  {
   "cell_type": "code",
   "execution_count": 5,
   "metadata": {},
   "outputs": [
    {
     "name": "stderr",
     "output_type": "stream",
     "text": [
      "2024-02-28 19:00:37,456 INFO     pid:47140 p2ch10.datasets:153:__init__ <p2ch10.datasets.LunaDataset object at 0x162da70d0>: 551065 training samples\n"
     ]
    },
    {
     "data": {
      "text/plain": [
       "(tensor([[[[-880., -846., -825.,  ..., -812., -772., -723.],\n",
       "           [-862., -805., -813.,  ..., -833., -829., -801.],\n",
       "           [-795., -770., -819.,  ..., -830., -808., -804.],\n",
       "           ...,\n",
       "           [-859., -858., -882.,  ...,  -35.,   -4.,   11.],\n",
       "           [-883., -878., -876.,  ...,    0.,  -13.,  -35.],\n",
       "           [-878., -845., -816.,  ...,    2.,  -15.,  -38.]],\n",
       " \n",
       "          [[-924., -914., -879.,  ..., -794., -732., -638.],\n",
       "           [-897., -881., -858.,  ..., -821., -787., -741.],\n",
       "           [-884., -877., -875.,  ..., -824., -808., -811.],\n",
       "           ...,\n",
       "           [-891., -868., -784.,  ...,  -80.,  -99., -109.],\n",
       "           [-887., -856., -759.,  ...,  -69.,  -83.,  -84.],\n",
       "           [-884., -835., -766.,  ..., -103., -102., -100.]],\n",
       " \n",
       "          [[-843., -843., -857.,  ..., -846., -837., -857.],\n",
       "           [-862., -854., -864.,  ..., -844., -821., -831.],\n",
       "           [-861., -843., -831.,  ..., -815., -807., -816.],\n",
       "           ...,\n",
       "           [-857., -789., -707.,  ...,  -69.,  -73.,  -82.],\n",
       "           [-883., -826., -751.,  ..., -101., -124., -129.],\n",
       "           [-833., -810., -794.,  ..., -130., -132., -105.]],\n",
       " \n",
       "          ...,\n",
       " \n",
       "          [[-853., -867., -907.,  ...,  149.,  198.,  318.],\n",
       "           [-906., -909., -918.,  ...,  151.,  285.,  433.],\n",
       "           [-935., -940., -924.,  ...,  210.,  329.,  422.],\n",
       "           ...,\n",
       "           [ -18.,  -27.,  -26.,  ...,   56.,  211.,  505.],\n",
       "           [ -51.,  -45.,  -35.,  ...,  207.,  531.,  626.],\n",
       "           [ -92.,  -56.,  -20.,  ...,  520.,  669.,  391.]],\n",
       " \n",
       "          [[-922., -918., -922.,  ...,  381.,  427.,  340.],\n",
       "           [-924., -923., -940.,  ...,  403.,  400.,  289.],\n",
       "           [-930., -951., -960.,  ...,  410.,  385.,  253.],\n",
       "           ...,\n",
       "           [ 149.,  157.,  142.,  ...,   61.,  224.,  545.],\n",
       "           [  81.,  109.,  141.,  ...,  211.,  550.,  710.],\n",
       "           [  12.,   38.,   37.,  ...,  548.,  777.,  534.]],\n",
       " \n",
       "          [[-921., -924., -915.,  ...,  201.,  117.,   55.],\n",
       "           [-900., -896., -907.,  ...,  189.,  119.,   66.],\n",
       "           [-877., -859., -893.,  ...,  139.,   77.,   28.],\n",
       "           ...,\n",
       "           [ 454.,  501.,  519.,  ...,  107.,  341.,  683.],\n",
       "           [ 493.,  468.,  386.,  ...,  307.,  623.,  805.],\n",
       "           [ 210.,  125.,   45.,  ...,  529.,  709.,  671.]]]]),\n",
       " tensor([0, 1]),\n",
       " '1.3.6.1.4.1.14519.5.2.1.6279.6001.287966244644280690737019247886',\n",
       " tensor([ 87, 369, 351]))"
      ]
     },
     "execution_count": 5,
     "metadata": {},
     "output_type": "execute_result"
    }
   ],
   "source": [
    "sample_data = positiveInfo_list[0].series_uid\n",
    "dataset = LunaDataset()\n",
    "dataset[0]"
   ]
  },
  {
   "cell_type": "markdown",
   "metadata": {},
   "source": [
    "### Exercises"
   ]
  },
  {
   "cell_type": "markdown",
   "metadata": {},
   "source": [
    "1. Implement a program that iterates through a LunaDataset instance, and time how long it takes to do so. <br> In the interest of time, it might make sense to have an option to limit the iterations to the first N=1000 samples.<br>\n",
    "    1. How long does it take to run the first time?<br>\n",
    "    2. How long does it take to run the second time?<br>\n",
    "    3. What does clearing the cache do to the runtime?<br>\n",
    "    4. What does using the last N=1000 samples do to the first/second runtime? <br><br>\n",
    "\n",
    "2. Change the LunaDataset implementation to randomize the sample list during `__init__`. <br> Clear the cache, and run the modified version. What does that do to the runtime of the first and second runs?\n",
    "\n",
    "3. Revert the randomization, and comment out the @functools.lru_cache(1, typed=True) decorator to getCt. <br>Clear the cache, and run the modified version. How does the runtime change now?"
   ]
  },
  {
   "cell_type": "markdown",
   "metadata": {},
   "source": []
  }
 ],
 "metadata": {
  "kernelspec": {
   "display_name": "dlpytorch",
   "language": "python",
   "name": "python3"
  },
  "language_info": {
   "codemirror_mode": {
    "name": "ipython",
    "version": 3
   },
   "file_extension": ".py",
   "mimetype": "text/x-python",
   "name": "python",
   "nbconvert_exporter": "python",
   "pygments_lexer": "ipython3",
   "version": "3.11.2"
  }
 },
 "nbformat": 4,
 "nbformat_minor": 2
}
