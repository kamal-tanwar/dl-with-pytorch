{
 "cells": [
  {
   "cell_type": "code",
   "execution_count": 1,
   "metadata": {},
   "outputs": [],
   "source": [
    "%matplotlib inline\n",
    "import numpy as np"
   ]
  },
  {
   "cell_type": "code",
   "execution_count": 2,
   "metadata": {},
   "outputs": [],
   "source": [
    "from p2ch10.datasets import getCandidateInfoList, getCt, LunaDataset, raw_cache"
   ]
  },
  {
   "cell_type": "code",
   "execution_count": 3,
   "metadata": {},
   "outputs": [],
   "source": [
    "candidateInfo_list = getCandidateInfoList(requireOnDisk_bool=False)\n",
    "positiveInfo_list = [x for x in candidateInfo_list if x[0]]\n",
    "diameter_list = [x[1] for x in positiveInfo_list]"
   ]
  },
  {
   "cell_type": "code",
   "execution_count": 4,
   "metadata": {},
   "outputs": [
    {
     "name": "stdout",
     "output_type": "stream",
     "text": [
      "1351\n",
      "CandidateInfoTuple(isNodule_bool=True, diameter_mm=32.27003025, series_uid='1.3.6.1.4.1.14519.5.2.1.6279.6001.287966244644280690737019247886', center_xyz=(75.7212243102, 92.8873310394, -119.270564052))\n"
     ]
    }
   ],
   "source": [
    "print(len(positiveInfo_list))\n",
    "print(positiveInfo_list[0])\n"
   ]
  },
  {
   "cell_type": "code",
   "execution_count": 5,
   "metadata": {},
   "outputs": [
    {
     "name": "stderr",
     "output_type": "stream",
     "text": [
      "2024-02-28 20:27:03,611 INFO     pid:52300 p2ch10.datasets:155:__init__ <p2ch10.datasets.LunaDataset object at 0x14de14f10>: 551065 training samples\n"
     ]
    },
    {
     "data": {
      "text/plain": [
       "(tensor([[[[-962., -858., -825.,  ...,   74.,  139.,  -36.],\n",
       "           [-837., -870., -815.,  ...,  -57.,  -19.,  103.],\n",
       "           [-745., -746., -793.,  ...,   84.,   54.,   43.],\n",
       "           ...,\n",
       "           [-756., -526., -737.,  ...,    8.,  -34.,   29.],\n",
       "           [-801., -657., -734.,  ...,   78.,  145.,   75.],\n",
       "           [-834., -905., -920.,  ...,  110.,  101.,  -20.]],\n",
       " \n",
       "          [[-964., -986., -953.,  ...,   69.,   -4.,   50.],\n",
       "           [-838., -801., -879.,  ...,   74.,   38.,  108.],\n",
       "           [-769., -779., -875.,  ...,   64.,   20.,   47.],\n",
       "           ...,\n",
       "           [-851., -819., -703.,  ...,   52.,   83.,  -13.],\n",
       "           [-966., -887., -782.,  ...,   80.,  177.,   51.],\n",
       "           [-944., -912., -797.,  ...,   87.,   42.,  113.]],\n",
       " \n",
       "          [[-913., -934., -889.,  ...,   74.,  -12.,   75.],\n",
       "           [-892., -879., -869.,  ...,  171.,  -20.,   26.],\n",
       "           [-853., -876., -897.,  ...,   28.,   57.,   55.],\n",
       "           ...,\n",
       "           [-666., -682., -515.,  ...,   82.,  117.,   88.],\n",
       "           [-737., -677., -734.,  ...,   53.,   32.,    8.],\n",
       "           [-828., -761., -739.,  ...,   77.,  139.,  136.]],\n",
       " \n",
       "          ...,\n",
       " \n",
       "          [[-931., -943., -886.,  ...,   51.,  -82.,   75.],\n",
       "           [-904., -954., -912.,  ...,  -42.,  104.,   14.],\n",
       "           [-862., -838., -917.,  ...,  123.,  -19.,   17.],\n",
       "           ...,\n",
       "           [-861., -826., -905.,  ...,  -90.,  -32.,   51.],\n",
       "           [-770., -733., -815.,  ...,  -83.,   69.,    4.],\n",
       "           [-785., -775., -702.,  ...,   -2.,   32.,   49.]],\n",
       " \n",
       "          [[-923., -839., -835.,  ...,   35.,  -23.,   42.],\n",
       "           [-840., -905., -887.,  ...,  -58.,  -77.,   11.],\n",
       "           [-918., -916., -880.,  ...,   83.,   48.,  -99.],\n",
       "           ...,\n",
       "           [-870., -825., -881.,  ..., -789., -529., -242.],\n",
       "           [-906., -881., -845.,  ..., -594., -358., -156.],\n",
       "           [-881., -932., -961.,  ..., -470., -151., -163.]],\n",
       " \n",
       "          [[-921., -905., -842.,  ...,   -8.,   55.,   63.],\n",
       "           [-800., -804., -789.,  ...,   51.,  -37.,   55.],\n",
       "           [-924., -896., -845.,  ...,   99.,   10.,    0.],\n",
       "           ...,\n",
       "           [-859., -856., -780.,  ..., -864., -842., -668.],\n",
       "           [-850., -864., -826.,  ..., -848., -893., -641.],\n",
       "           [-717., -727., -914.,  ..., -799., -739., -563.]]]]),\n",
       " tensor([1, 0]),\n",
       " '1.3.6.1.4.1.14519.5.2.1.6279.6001.338875090785618956575597613546',\n",
       " tensor([ 79, 224, 191]))"
      ]
     },
     "execution_count": 5,
     "metadata": {},
     "output_type": "execute_result"
    }
   ],
   "source": [
    "sample_data = positiveInfo_list[0].series_uid\n",
    "dataset = LunaDataset()\n",
    "dataset[0]"
   ]
  },
  {
   "cell_type": "markdown",
   "metadata": {},
   "source": [
    "### Exercises"
   ]
  },
  {
   "cell_type": "markdown",
   "metadata": {},
   "source": [
    "1. Implement a program that iterates through a LunaDataset instance, and time how long it takes to do so. <br> In the interest of time, it might make sense to have an option to limit the iterations to the first N=1000 samples.<br>\n",
    "    1. How long does it take to run the first time?<br>\n",
    "        Roughly `2 mins 43 seconds` on M1 Max Macbook (did not use `mps` as device) <br><br>\n",
    "    2. How long does it take to run the second time?<br>\n",
    "        `2 seconds`! <br><br>\n",
    "    3. What does clearing the cache do to the runtime?<br>\n",
    "        Well, as expected it again takes too long! Roughly `2 mins 30 secs`<br><br>\n",
    "        \n",
    "    4. What does using the last N=1000 samples do to the first/second runtime? <br>\n",
    "        It took only `3 mins 17 seconds` even after clearning the cache. The second time was shorter, roughly `3 secs` <br>\n",
    "        Have to check this agian <br><br>\n",
    "        \n",
    "\n",
    "2. Change the LunaDataset implementation to randomize the sample list during `__init__`. <br> Clear the cache, and run the modified version. What does that do to the runtime of the first and second runs?<br>\n",
    "      The first run takes `3 mins 16 seconds` so a little longer than non-randomized. Latter runs take about `2 seconds`. <br><br>\n",
    "\n",
    "3. Revert the randomization, and comment out the @functools.lru_cache(1, typed=True) decorator to getCt. <br>Clear the cache, and run the modified version. How does the runtime change now?<br>\n",
    "      The first run takes `3 mins` but the subsequent runs are still faster at 2-3 seconds.\n",
    "    \n"
   ]
  },
  {
   "cell_type": "code",
   "execution_count": 13,
   "metadata": {},
   "outputs": [
    {
     "name": "stdout",
     "output_type": "stream",
     "text": [
      "CPU times: user 1min 6s, sys: 33.2 s, total: 1min 39s\n",
      "Wall time: 1min 51s\n"
     ]
    }
   ],
   "source": [
    "%%time\n",
    "\n",
    "for i, data in enumerate(dataset):\n",
    "    if i >=1000:\n",
    "        break"
   ]
  },
  {
   "cell_type": "code",
   "execution_count": 14,
   "metadata": {},
   "outputs": [
    {
     "name": "stdout",
     "output_type": "stream",
     "text": [
      "231 ms ± 49.8 ms per loop (mean ± std. dev. of 7 runs, 1 loop each)\n"
     ]
    }
   ],
   "source": [
    "%%timeit\n",
    "\n",
    "for i, data in enumerate(dataset):\n",
    "    if i >=1000:\n",
    "        break"
   ]
  },
  {
   "cell_type": "code",
   "execution_count": 15,
   "metadata": {},
   "outputs": [
    {
     "data": {
      "text/plain": [
       "1001"
      ]
     },
     "execution_count": 15,
     "metadata": {},
     "output_type": "execute_result"
    }
   ],
   "source": [
    "getCandidateInfoList.cache_clear()\n",
    "getCt.cache_clear()\n",
    "raw_cache.clear()"
   ]
  },
  {
   "cell_type": "code",
   "execution_count": 16,
   "metadata": {},
   "outputs": [
    {
     "name": "stdout",
     "output_type": "stream",
     "text": [
      "CPU times: user 1min 31s, sys: 45.5 s, total: 2min 17s\n",
      "Wall time: 2min 33s\n"
     ]
    }
   ],
   "source": [
    "%%time\n",
    "\n",
    "for i, data in enumerate(dataset):\n",
    "    if i >=1000:\n",
    "        break"
   ]
  },
  {
   "cell_type": "markdown",
   "metadata": {},
   "source": [
    "##### Last 1000 samples"
   ]
  },
  {
   "cell_type": "code",
   "execution_count": 25,
   "metadata": {},
   "outputs": [
    {
     "name": "stdout",
     "output_type": "stream",
     "text": [
      "CPU times: user 98.5 ms, sys: 76.8 ms, total: 175 ms\n",
      "Wall time: 425 ms\n"
     ]
    }
   ],
   "source": [
    "%%time\n",
    "num_samples = len(dataset)\n",
    "start_idx = num_samples - 1000\n",
    "\n",
    "for idx in range(start_idx, num_samples):\n",
    "    temp = dataset[idx]\n"
   ]
  },
  {
   "cell_type": "code",
   "execution_count": 10,
   "metadata": {},
   "outputs": [
    {
     "data": {
      "text/plain": [
       "1001"
      ]
     },
     "execution_count": 10,
     "metadata": {},
     "output_type": "execute_result"
    }
   ],
   "source": [
    "getCandidateInfoList.cache_clear()\n",
    "getCt.cache_clear()\n",
    "raw_cache.clear()"
   ]
  },
  {
   "cell_type": "code",
   "execution_count": 11,
   "metadata": {},
   "outputs": [
    {
     "name": "stdout",
     "output_type": "stream",
     "text": [
      "CPU times: user 2min 5s, sys: 57.1 s, total: 3min 2s\n",
      "Wall time: 3min 17s\n"
     ]
    }
   ],
   "source": [
    "%%time\n",
    "num_samples = len(dataset)\n",
    "start_idx = num_samples - 1000\n",
    "\n",
    "for idx in range(start_idx, num_samples):\n",
    "    temp = dataset[idx]"
   ]
  },
  {
   "cell_type": "code",
   "execution_count": 12,
   "metadata": {},
   "outputs": [
    {
     "name": "stdout",
     "output_type": "stream",
     "text": [
      "314 ms ± 10.1 ms per loop (mean ± std. dev. of 7 runs, 1 loop each)\n"
     ]
    }
   ],
   "source": [
    "%%timeit\n",
    "num_samples = len(dataset)\n",
    "start_idx = num_samples - 1000\n",
    "\n",
    "for idx in range(start_idx, num_samples):\n",
    "    temp = dataset[idx]"
   ]
  },
  {
   "cell_type": "markdown",
   "metadata": {},
   "source": [
    "##### Randomize"
   ]
  },
  {
   "cell_type": "code",
   "execution_count": 31,
   "metadata": {},
   "outputs": [
    {
     "name": "stdout",
     "output_type": "stream",
     "text": [
      "The autoreload extension is already loaded. To reload it, use:\n",
      "  %reload_ext autoreload\n"
     ]
    },
    {
     "data": {
      "text/plain": [
       "p2ch10.datasets.LunaDataset"
      ]
     },
     "execution_count": 31,
     "metadata": {},
     "output_type": "execute_result"
    }
   ],
   "source": [
    "# %load_ext autoreload\n",
    "# %autoreload 2\n",
    "\n",
    "# The above didn't work so restarted kernel"
   ]
  },
  {
   "cell_type": "code",
   "execution_count": 8,
   "metadata": {},
   "outputs": [
    {
     "name": "stderr",
     "output_type": "stream",
     "text": [
      "2024-02-28 20:28:02,886 INFO     pid:52300 p2ch10.datasets:155:__init__ <p2ch10.datasets.LunaDataset object at 0x14de00e10>: 551065 training samples\n"
     ]
    },
    {
     "data": {
      "text/plain": [
       "(tensor([[[[-896., -901., -904.,  ..., -947., -931., -907.],\n",
       "           [-893., -903., -903.,  ..., -956., -949., -931.],\n",
       "           [-846., -872., -869.,  ..., -961., -960., -953.],\n",
       "           ...,\n",
       "           [-674., -814., -889.,  ..., -830., -836., -843.],\n",
       "           [-676., -820., -879.,  ..., -849., -835., -841.],\n",
       "           [-643., -807., -870.,  ..., -848., -851., -844.]],\n",
       " \n",
       "          [[-856., -840., -852.,  ..., -925., -912., -903.],\n",
       "           [-869., -840., -836.,  ..., -933., -936., -925.],\n",
       "           [-857., -838., -827.,  ..., -925., -932., -929.],\n",
       "           ...,\n",
       "           [-854., -840., -860.,  ..., -875., -860., -861.],\n",
       "           [-860., -837., -841.,  ..., -860., -860., -869.],\n",
       "           [-845., -822., -805.,  ..., -877., -884., -870.]],\n",
       " \n",
       "          [[-866., -853., -851.,  ..., -946., -952., -951.],\n",
       "           [-860., -853., -848.,  ..., -930., -944., -951.],\n",
       "           [-856., -843., -831.,  ..., -930., -944., -948.],\n",
       "           ...,\n",
       "           [-841., -800., -863.,  ..., -868., -870., -874.],\n",
       "           [-850., -795., -843.,  ..., -883., -870., -863.],\n",
       "           [-877., -823., -834.,  ..., -874., -863., -848.]],\n",
       " \n",
       "          ...,\n",
       " \n",
       "          [[ 191.,  131.,    3.,  ..., -871., -892., -889.],\n",
       "           [  63., -134., -358.,  ..., -900., -908., -907.],\n",
       "           [-273., -495., -652.,  ..., -920., -920., -923.],\n",
       "           ...,\n",
       "           [-930., -933., -924.,  ..., -806., -877., -871.],\n",
       "           [-931., -926., -898.,  ..., -692., -859., -866.],\n",
       "           [-914., -911., -851.,  ..., -568., -804., -866.]],\n",
       " \n",
       "          [[ 193.,  203.,  227.,  ..., -876., -853., -864.],\n",
       "           [ 204.,  226.,  196.,  ..., -869., -866., -872.],\n",
       "           [ 198.,  114.,  -50.,  ..., -882., -885., -887.],\n",
       "           ...,\n",
       "           [-932., -907., -906.,  ..., -822., -866., -880.],\n",
       "           [-921., -915., -920.,  ..., -737., -849., -879.],\n",
       "           [-921., -911., -896.,  ..., -628., -815., -865.]],\n",
       " \n",
       "          [[ 147.,  187.,  202.,  ..., -852., -869., -888.],\n",
       "           [ 198.,  245.,  301.,  ..., -882., -878., -884.],\n",
       "           [ 253.,  320.,  359.,  ..., -893., -877., -869.],\n",
       "           ...,\n",
       "           [-882., -892., -883.,  ..., -887., -891., -888.],\n",
       "           [-896., -888., -866.,  ..., -873., -880., -871.],\n",
       "           [-875., -856., -858.,  ..., -872., -876., -862.]]]]),\n",
       " tensor([1, 0]),\n",
       " '1.3.6.1.4.1.14519.5.2.1.6279.6001.328789598898469177563438457842',\n",
       " tensor([ 64, 204, 159]))"
      ]
     },
     "execution_count": 8,
     "metadata": {},
     "output_type": "execute_result"
    }
   ],
   "source": [
    "dataset = LunaDataset()\n",
    "dataset[0]"
   ]
  },
  {
   "cell_type": "code",
   "execution_count": 12,
   "metadata": {},
   "outputs": [
    {
     "name": "stdout",
     "output_type": "stream",
     "text": [
      "CPU times: user 126 ms, sys: 67.7 ms, total: 194 ms\n",
      "Wall time: 406 ms\n"
     ]
    }
   ],
   "source": [
    "%%time\n",
    "\n",
    "for i, data in enumerate(dataset):\n",
    "    if i >=1000:\n",
    "        break\n",
    "\n",
    "#3m 16.6s"
   ]
  },
  {
   "cell_type": "code",
   "execution_count": 13,
   "metadata": {},
   "outputs": [
    {
     "name": "stdout",
     "output_type": "stream",
     "text": [
      "236 ms ± 53 ms per loop (mean ± std. dev. of 7 runs, 1 loop each)\n"
     ]
    }
   ],
   "source": [
    "%%timeit\n",
    "\n",
    "for i, data in enumerate(dataset):\n",
    "    if i >=1000:\n",
    "        break\n"
   ]
  },
  {
   "cell_type": "markdown",
   "metadata": {},
   "source": [
    "#### LRU Cache Commented"
   ]
  },
  {
   "cell_type": "code",
   "execution_count": 5,
   "metadata": {},
   "outputs": [
    {
     "data": {
      "text/plain": [
       "2004"
      ]
     },
     "execution_count": 5,
     "metadata": {},
     "output_type": "execute_result"
    }
   ],
   "source": [
    "getCandidateInfoList.cache_clear()\n",
    "# getCt.cache_clear()\n",
    "raw_cache.clear()"
   ]
  },
  {
   "cell_type": "code",
   "execution_count": 6,
   "metadata": {},
   "outputs": [
    {
     "name": "stderr",
     "output_type": "stream",
     "text": [
      "2024-02-28 20:41:16,031 INFO     pid:52863 p2ch10.datasets:155:__init__ <p2ch10.datasets.LunaDataset object at 0x28673e290>: 551065 training samples\n"
     ]
    }
   ],
   "source": [
    "dataset = LunaDataset()"
   ]
  },
  {
   "cell_type": "code",
   "execution_count": 7,
   "metadata": {},
   "outputs": [
    {
     "name": "stdout",
     "output_type": "stream",
     "text": [
      "CPU times: user 1min 46s, sys: 51.7 s, total: 2min 38s\n",
      "Wall time: 3min 2s\n"
     ]
    }
   ],
   "source": [
    "%%time\n",
    "\n",
    "for i, data in enumerate(dataset):\n",
    "    if i >=1000:\n",
    "        break"
   ]
  },
  {
   "cell_type": "code",
   "execution_count": 8,
   "metadata": {},
   "outputs": [
    {
     "name": "stdout",
     "output_type": "stream",
     "text": [
      "206 ms ± 14.9 ms per loop (mean ± std. dev. of 7 runs, 1 loop each)\n"
     ]
    }
   ],
   "source": [
    "%%timeit\n",
    "\n",
    "for i, data in enumerate(dataset):\n",
    "    if i >=1000:\n",
    "        break"
   ]
  },
  {
   "cell_type": "code",
   "execution_count": null,
   "metadata": {},
   "outputs": [],
   "source": []
  }
 ],
 "metadata": {
  "kernelspec": {
   "display_name": "dlpytorch",
   "language": "python",
   "name": "python3"
  },
  "language_info": {
   "codemirror_mode": {
    "name": "ipython",
    "version": 3
   },
   "file_extension": ".py",
   "mimetype": "text/x-python",
   "name": "python",
   "nbconvert_exporter": "python",
   "pygments_lexer": "ipython3",
   "version": "3.11.2"
  }
 },
 "nbformat": 4,
 "nbformat_minor": 2
}
